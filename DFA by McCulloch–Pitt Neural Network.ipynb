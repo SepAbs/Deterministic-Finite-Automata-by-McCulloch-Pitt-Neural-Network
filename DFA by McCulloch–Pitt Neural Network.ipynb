{
 "cells": [
  {
   "cell_type": "markdown",
   "metadata": {},
   "source": [
    "# Abbaspour - 610398147 - HW4 - DFA by McCulloch-Pitts Neural Network\n",
    "# Problem\n",
    "We're going to implement a McCulloch-Pitts neural network represents a given DFA with its transitions table.\n",
    "Calculations in order to find some good-enough weights and minimum threshold for each of them are submitted in 'Calculations' pdf file.\n",
    "For Python implementation, we import some methods from well-known library 'TensorFlow' to implement the target neural network.\n",
    "Binary-formed inputs ranges from 000 to 111 which are put in 'listInput' list variable, and their corresponding weights array for each McCulloch-Pitts neural network are put in 'listWeights' list variable.\n",
    "Values of them and also the value of threshold which equals 1 for any McCulloch-Pitts neural network are achieved by calculations in 'Calculations' file.\n",
    "According to the file, outputs are S_1(t + 1), S_0(t + 1) and y which are put in 'Outputs' list, respectively."
   ]
  },
  {
   "cell_type": "code",
   "execution_count": null,
   "metadata": {},
   "outputs": [],
   "source": [
    "from tensorflow import cond, constant, float32, multiply, reduce_sum\n",
    "from warnings import filterwarnings\n",
    "filterwarnings(\"ignore\")\n",
    "# Setting whatever achieved through calculations in 'Calculations' pdf file.\n",
    "# Outputs = [S_1(t + 1), S_0(t + 1), y] # listInputs = [[S_1(t), S_0(t), x]] # listWeights = [[W_1, W_2, W_3] for i in range(number of Mcculloh Pitts neural networks = 3)]\n",
    "Outputs, listInputs, listWeights, Threshold = [\"S_1\", \"S_0\", \"y\"], [constant([0, 0, 0], dtype = float32), constant([0, 0, 1], dtype = float32), constant([0, 1, 0], dtype = float32), constant([0, 1, 1], dtype = float32), constant([1, 0, 0], dtype = float32), constant([1, 0, 1], dtype = float32), constant([1, 1, 0], dtype = float32), constant([1, 1, 1], dtype = float32)], [constant([1, 1, -1], dtype = float32), constant([1.5, -0.5, 1.5], dtype = float32), constant([1, 0.5, -0.5], dtype = float32)], constant(1, dtype = float32)"
   ]
  },
  {
   "cell_type": "markdown",
   "metadata": {},
   "source": [
    "# McCulloch-Pitts Neuron\n",
    "Following function is defined to calculate McCulloch-Pitts perceptron calculations."
   ]
  },
  {
   "cell_type": "code",
   "execution_count": null,
   "metadata": {},
   "outputs": [],
   "source": [
    "# Mcculloh Pitts Neural Network\n",
    "def McCulloch_Pitts_neuron(Inputs, Weights, Threshold):\n",
    "    return cond(reduce_sum(multiply(Inputs, Weights)) >= Threshold, lambda:1.0, lambda:0.0)"
   ]
  },
  {
   "cell_type": "markdown",
   "metadata": {},
   "source": [
    "# One-By-One\n",
    "Following function is defined to caluculate the output of each of the three McCulloch-Pitts neural networks by means of inputting each input state."
   ]
  },
  {
   "cell_type": "code",
   "execution_count": null,
   "metadata": {},
   "outputs": [],
   "source": [
    "def OneByOne(listInputs, listWeights, Threshold):\n",
    "    for Inputs in listInputs:\n",
    "        for Index, Weights in enumerate(listWeights):                                    \n",
    "            print(f\"\\nFor inputs {Inputs} with weights {Weights} the output of {Index}th Mcculloh Pitts neural network returns {Outputs[Index]} is: {McCulloch_Pitts_neuron(Inputs, Weights, Threshold)}\")"
   ]
  },
  {
   "cell_type": "markdown",
   "metadata": {},
   "source": [
    "# Main Neural Network\n",
    "Here we implemented main neural networks constructed from merging three metioned McCulloch-Pitts neural networks.\n"
   ]
  },
  {
   "cell_type": "code",
   "execution_count": null,
   "metadata": {},
   "outputs": [],
   "source": [
    "# Main Neural Network\n",
    "def NeuralNetwork(listInputs, listWeights, Threshold):\n",
    "    for Inputs in listInputs:\n",
    "        print(f\"\\nFor inputs {Inputs} the neural network gives: {(McCulloch_Pitts_neuron(Inputs, listWeights[0], Threshold), McCulloch_Pitts_neuron(Inputs, listWeights[1], Threshold), McCulloch_Pitts_neuron(Inputs, listWeights[2], Threshold))}\")\n",
    "\n",
    "NeuralNetwork(listInputs, listWeights, Threshold)"
   ]
  },
  {
   "cell_type": "markdown",
   "metadata": {},
   "source": [
    "# Challenges\n",
    "Main challange was to identify input and output layers and calculate corresponding weights."
   ]
  }
 ],
 "metadata": {
  "language_info": {
   "name": "python"
  }
 },
 "nbformat": 4,
 "nbformat_minor": 2
}
